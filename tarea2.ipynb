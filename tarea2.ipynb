{
 "cells": [
  {
   "cell_type": "code",
   "execution_count": 14,
   "metadata": {},
   "outputs": [],
   "source": [
    "import numpy as np\n",
    "import pandas as pd\n",
    "from plotnine import *"
   ]
  },
  {
   "cell_type": "code",
   "execution_count": 15,
   "metadata": {},
   "outputs": [],
   "source": [
    "df_test = pd.read_csv('evalData.csv')\n",
    "df_train = pd.read_csv('trainData.csv')"
   ]
  },
  {
   "cell_type": "markdown",
   "metadata": {},
   "source": [
    "# Limpieza de datos"
   ]
  },
  {
   "cell_type": "code",
   "execution_count": 16,
   "metadata": {},
   "outputs": [],
   "source": [
    "#eliminar columna Unnamed: 0\n",
    "df_test = df_test.drop(columns=[\"Unnamed: 0\"])\n",
    "df_train = df_train.drop(columns=[\"Unnamed: 0\"])"
   ]
  },
  {
   "cell_type": "code",
   "execution_count": 18,
   "metadata": {},
   "outputs": [
    {
     "data": {
      "text/plain": [
       "date                  0\n",
       "fligth_number         0\n",
       "origin                0\n",
       "destination           0\n",
       "distance              0\n",
       "noshow                0\n",
       "denied_boarding       0\n",
       "pax_midlow            0\n",
       "pax_high              0\n",
       "pax_midhigh           0\n",
       "pax_low               0\n",
       "pax_freqflyer         0\n",
       "group_bookings        0\n",
       "out_of_stock          0\n",
       "dom_cnx               0\n",
       "int_cnx               0\n",
       "p2p                   0\n",
       "departure_time     1418\n",
       "capacity              0\n",
       "revenues_usd          0\n",
       "bookings              0\n",
       "dtype: int64"
      ]
     },
     "execution_count": 18,
     "metadata": {},
     "output_type": "execute_result"
    }
   ],
   "source": [
    "#la variable departure_time \"hora programada de despegue\" presenta datos nulos\n",
    "df_train.isna().sum()"
   ]
  },
  {
   "cell_type": "code",
   "execution_count": 19,
   "metadata": {},
   "outputs": [
    {
     "data": {
      "text/plain": [
       "date                 0\n",
       "fligth_number        0\n",
       "origin               0\n",
       "destination          0\n",
       "distance             0\n",
       "denied_boarding      0\n",
       "pax_midlow           0\n",
       "pax_high             0\n",
       "pax_midhigh          0\n",
       "pax_low              0\n",
       "pax_freqflyer        0\n",
       "group_bookings       0\n",
       "out_of_stock         0\n",
       "dom_cnx              0\n",
       "int_cnx              0\n",
       "p2p                  0\n",
       "departure_time     345\n",
       "capacity             0\n",
       "revenues_usd         0\n",
       "bookings             0\n",
       "dtype: int64"
      ]
     },
     "execution_count": 19,
     "metadata": {},
     "output_type": "execute_result"
    }
   ],
   "source": [
    "#la misma variable tiene datos nulos en data test\n",
    "df_test.isna().sum()"
   ]
  },
  {
   "cell_type": "code",
   "execution_count": null,
   "metadata": {},
   "outputs": [],
   "source": []
  }
 ],
 "metadata": {
  "kernelspec": {
   "display_name": "base",
   "language": "python",
   "name": "python3"
  },
  "language_info": {
   "codemirror_mode": {
    "name": "ipython",
    "version": 3
   },
   "file_extension": ".py",
   "mimetype": "text/x-python",
   "name": "python",
   "nbconvert_exporter": "python",
   "pygments_lexer": "ipython3",
   "version": "3.11.4"
  }
 },
 "nbformat": 4,
 "nbformat_minor": 2
}
