{
 "cells": [
  {
   "cell_type": "code",
   "execution_count": 20,
   "metadata": {},
   "outputs": [],
   "source": [
    "import numpy as np\n",
    "import pandas as pd\n",
    "from plotnine import *"
   ]
  },
  {
   "cell_type": "code",
   "execution_count": 22,
   "metadata": {},
   "outputs": [
    {
     "data": {
      "text/html": [
       "<div>\n",
       "<style scoped>\n",
       "    .dataframe tbody tr th:only-of-type {\n",
       "        vertical-align: middle;\n",
       "    }\n",
       "\n",
       "    .dataframe tbody tr th {\n",
       "        vertical-align: top;\n",
       "    }\n",
       "\n",
       "    .dataframe thead th {\n",
       "        text-align: right;\n",
       "    }\n",
       "</style>\n",
       "<table border=\"1\" class=\"dataframe\">\n",
       "  <thead>\n",
       "    <tr style=\"text-align: right;\">\n",
       "      <th></th>\n",
       "      <th>Unnamed: 0</th>\n",
       "      <th>date</th>\n",
       "      <th>fligth_number</th>\n",
       "      <th>origin</th>\n",
       "      <th>destination</th>\n",
       "      <th>distance</th>\n",
       "      <th>noshow</th>\n",
       "      <th>denied_boarding</th>\n",
       "      <th>pax_midlow</th>\n",
       "      <th>pax_high</th>\n",
       "      <th>...</th>\n",
       "      <th>pax_freqflyer</th>\n",
       "      <th>group_bookings</th>\n",
       "      <th>out_of_stock</th>\n",
       "      <th>dom_cnx</th>\n",
       "      <th>int_cnx</th>\n",
       "      <th>p2p</th>\n",
       "      <th>departure_time</th>\n",
       "      <th>capacity</th>\n",
       "      <th>revenues_usd</th>\n",
       "      <th>bookings</th>\n",
       "    </tr>\n",
       "  </thead>\n",
       "  <tbody>\n",
       "    <tr>\n",
       "      <th>0</th>\n",
       "      <td>389083</td>\n",
       "      <td>2009-11-09</td>\n",
       "      <td>8995</td>\n",
       "      <td>BBA</td>\n",
       "      <td>SCL</td>\n",
       "      <td>1394</td>\n",
       "      <td>9.0</td>\n",
       "      <td>0</td>\n",
       "      <td>94</td>\n",
       "      <td>2</td>\n",
       "      <td>...</td>\n",
       "      <td>22</td>\n",
       "      <td>19</td>\n",
       "      <td>0</td>\n",
       "      <td>1</td>\n",
       "      <td>0</td>\n",
       "      <td>239</td>\n",
       "      <td>10:30:00</td>\n",
       "      <td>174.0</td>\n",
       "      <td>10631.1</td>\n",
       "      <td>240</td>\n",
       "    </tr>\n",
       "    <tr>\n",
       "      <th>1</th>\n",
       "      <td>177073</td>\n",
       "      <td>2009-05-23</td>\n",
       "      <td>7061</td>\n",
       "      <td>LIM</td>\n",
       "      <td>TRU</td>\n",
       "      <td>489</td>\n",
       "      <td>0.0</td>\n",
       "      <td>0</td>\n",
       "      <td>100</td>\n",
       "      <td>4</td>\n",
       "      <td>...</td>\n",
       "      <td>25</td>\n",
       "      <td>0</td>\n",
       "      <td>0</td>\n",
       "      <td>19</td>\n",
       "      <td>9</td>\n",
       "      <td>192</td>\n",
       "      <td>19:20:00</td>\n",
       "      <td>174.0</td>\n",
       "      <td>5453.7</td>\n",
       "      <td>220</td>\n",
       "    </tr>\n",
       "    <tr>\n",
       "      <th>2</th>\n",
       "      <td>1040357</td>\n",
       "      <td>2011-05-09</td>\n",
       "      <td>8972</td>\n",
       "      <td>SCL</td>\n",
       "      <td>PUQ</td>\n",
       "      <td>2180</td>\n",
       "      <td>4.0</td>\n",
       "      <td>0</td>\n",
       "      <td>7</td>\n",
       "      <td>1</td>\n",
       "      <td>...</td>\n",
       "      <td>2</td>\n",
       "      <td>0</td>\n",
       "      <td>0</td>\n",
       "      <td>0</td>\n",
       "      <td>10</td>\n",
       "      <td>69</td>\n",
       "      <td>09:54:00</td>\n",
       "      <td>218.0</td>\n",
       "      <td>16161.0</td>\n",
       "      <td>79</td>\n",
       "    </tr>\n",
       "    <tr>\n",
       "      <th>3</th>\n",
       "      <td>505258</td>\n",
       "      <td>2010-02-12</td>\n",
       "      <td>6039</td>\n",
       "      <td>CGH</td>\n",
       "      <td>CNF</td>\n",
       "      <td>524</td>\n",
       "      <td>13.0</td>\n",
       "      <td>0</td>\n",
       "      <td>54</td>\n",
       "      <td>4</td>\n",
       "      <td>...</td>\n",
       "      <td>4</td>\n",
       "      <td>0</td>\n",
       "      <td>0</td>\n",
       "      <td>26</td>\n",
       "      <td>0</td>\n",
       "      <td>64</td>\n",
       "      <td>21:00:00</td>\n",
       "      <td>174.0</td>\n",
       "      <td>10828.7</td>\n",
       "      <td>90</td>\n",
       "    </tr>\n",
       "    <tr>\n",
       "      <th>4</th>\n",
       "      <td>369663</td>\n",
       "      <td>2009-10-24</td>\n",
       "      <td>7713</td>\n",
       "      <td>GPS</td>\n",
       "      <td>GYE</td>\n",
       "      <td>1170</td>\n",
       "      <td>14.0</td>\n",
       "      <td>0</td>\n",
       "      <td>21</td>\n",
       "      <td>88</td>\n",
       "      <td>...</td>\n",
       "      <td>0</td>\n",
       "      <td>88</td>\n",
       "      <td>1</td>\n",
       "      <td>23</td>\n",
       "      <td>3</td>\n",
       "      <td>183</td>\n",
       "      <td>12:40:00</td>\n",
       "      <td>144.0</td>\n",
       "      <td>16721.6</td>\n",
       "      <td>209</td>\n",
       "    </tr>\n",
       "  </tbody>\n",
       "</table>\n",
       "<p>5 rows × 22 columns</p>\n",
       "</div>"
      ],
      "text/plain": [
       "   Unnamed: 0        date  fligth_number origin destination  distance  noshow  \\\n",
       "0      389083  2009-11-09           8995    BBA         SCL      1394     9.0   \n",
       "1      177073  2009-05-23           7061    LIM         TRU       489     0.0   \n",
       "2     1040357  2011-05-09           8972    SCL         PUQ      2180     4.0   \n",
       "3      505258  2010-02-12           6039    CGH         CNF       524    13.0   \n",
       "4      369663  2009-10-24           7713    GPS         GYE      1170    14.0   \n",
       "\n",
       "   denied_boarding  pax_midlow  pax_high  ...  pax_freqflyer  group_bookings  \\\n",
       "0                0          94         2  ...             22              19   \n",
       "1                0         100         4  ...             25               0   \n",
       "2                0           7         1  ...              2               0   \n",
       "3                0          54         4  ...              4               0   \n",
       "4                0          21        88  ...              0              88   \n",
       "\n",
       "   out_of_stock  dom_cnx  int_cnx  p2p  departure_time  capacity revenues_usd  \\\n",
       "0             0        1        0  239        10:30:00     174.0      10631.1   \n",
       "1             0       19        9  192        19:20:00     174.0       5453.7   \n",
       "2             0        0       10   69        09:54:00     218.0      16161.0   \n",
       "3             0       26        0   64        21:00:00     174.0      10828.7   \n",
       "4             1       23        3  183        12:40:00     144.0      16721.6   \n",
       "\n",
       "   bookings  \n",
       "0       240  \n",
       "1       220  \n",
       "2        79  \n",
       "3        90  \n",
       "4       209  \n",
       "\n",
       "[5 rows x 22 columns]"
      ]
     },
     "execution_count": 22,
     "metadata": {},
     "output_type": "execute_result"
    }
   ],
   "source": [
    "df_test = pd.read_csv('evalData.csv')\n",
    "df_train = pd.read_csv('trainData.csv')\n",
    "df_train.head()"
   ]
  },
  {
   "cell_type": "markdown",
   "metadata": {},
   "source": [
    "# Limpieza de datos"
   ]
  },
  {
   "cell_type": "code",
   "execution_count": 16,
   "metadata": {},
   "outputs": [],
   "source": [
    "#eliminar columna Unnamed: 0\n",
    "df_test = df_test.drop(columns=[\"Unnamed: 0\"])\n",
    "df_train = df_train.drop(columns=[\"Unnamed: 0\"])"
   ]
  },
  {
   "cell_type": "code",
   "execution_count": 18,
   "metadata": {},
   "outputs": [
    {
     "data": {
      "text/plain": [
       "date                  0\n",
       "fligth_number         0\n",
       "origin                0\n",
       "destination           0\n",
       "distance              0\n",
       "noshow                0\n",
       "denied_boarding       0\n",
       "pax_midlow            0\n",
       "pax_high              0\n",
       "pax_midhigh           0\n",
       "pax_low               0\n",
       "pax_freqflyer         0\n",
       "group_bookings        0\n",
       "out_of_stock          0\n",
       "dom_cnx               0\n",
       "int_cnx               0\n",
       "p2p                   0\n",
       "departure_time     1418\n",
       "capacity              0\n",
       "revenues_usd          0\n",
       "bookings              0\n",
       "dtype: int64"
      ]
     },
     "execution_count": 18,
     "metadata": {},
     "output_type": "execute_result"
    }
   ],
   "source": [
    "#la variable departure_time \"hora programada de despegue\" presenta datos nulos\n",
    "df_train.isna().sum()"
   ]
  },
  {
   "cell_type": "code",
   "execution_count": 19,
   "metadata": {},
   "outputs": [
    {
     "data": {
      "text/plain": [
       "date                 0\n",
       "fligth_number        0\n",
       "origin               0\n",
       "destination          0\n",
       "distance             0\n",
       "denied_boarding      0\n",
       "pax_midlow           0\n",
       "pax_high             0\n",
       "pax_midhigh          0\n",
       "pax_low              0\n",
       "pax_freqflyer        0\n",
       "group_bookings       0\n",
       "out_of_stock         0\n",
       "dom_cnx              0\n",
       "int_cnx              0\n",
       "p2p                  0\n",
       "departure_time     345\n",
       "capacity             0\n",
       "revenues_usd         0\n",
       "bookings             0\n",
       "dtype: int64"
      ]
     },
     "execution_count": 19,
     "metadata": {},
     "output_type": "execute_result"
    }
   ],
   "source": [
    "#la misma variable tiene datos nulos en data test\n",
    "df_test.isna().sum()"
   ]
  },
  {
   "cell_type": "markdown",
   "metadata": {},
   "source": [
    "En los dos codigos anteriores se observa que la variable de hora de despegue existen valores nulos tanto para el data set de prueba como el de entrenamiento."
   ]
  },
  {
   "cell_type": "code",
   "execution_count": 27,
   "metadata": {},
   "outputs": [
    {
     "data": {
      "text/plain": [
       "destination    159\n",
       "dtype: int64"
      ]
     },
     "execution_count": 27,
     "metadata": {},
     "output_type": "execute_result"
    }
   ],
   "source": [
    "df_train[['destination']].nunique()\n",
    "#serian 159 aeropuertos como variable categoria, habria que transformarlo?"
   ]
  },
  {
   "cell_type": "code",
   "execution_count": null,
   "metadata": {},
   "outputs": [],
   "source": []
  }
 ],
 "metadata": {
  "kernelspec": {
   "display_name": "base",
   "language": "python",
   "name": "python3"
  },
  "language_info": {
   "codemirror_mode": {
    "name": "ipython",
    "version": 3
   },
   "file_extension": ".py",
   "mimetype": "text/x-python",
   "name": "python",
   "nbconvert_exporter": "python",
   "pygments_lexer": "ipython3",
   "version": "3.11.4"
  }
 },
 "nbformat": 4,
 "nbformat_minor": 2
}
